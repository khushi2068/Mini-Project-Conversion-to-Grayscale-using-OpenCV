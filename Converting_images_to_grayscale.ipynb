{
  "nbformat": 4,
  "nbformat_minor": 0,
  "metadata": {
    "colab": {
      "provenance": [],
      "authorship_tag": "ABX9TyPiaHLWWoW06e1hUDi6bwRw",
      "include_colab_link": true
    },
    "kernelspec": {
      "name": "python3",
      "display_name": "Python 3"
    },
    "language_info": {
      "name": "python"
    }
  },
  "cells": [
    {
      "cell_type": "markdown",
      "metadata": {
        "id": "view-in-github",
        "colab_type": "text"
      },
      "source": [
        "<a href=\"https://colab.research.google.com/github/khushi2068/Mini-Project-Conversion-to-Grayscale-using-OpenCV/blob/main/Converting_images_to_grayscale.ipynb\" target=\"_parent\"><img src=\"https://colab.research.google.com/assets/colab-badge.svg\" alt=\"Open In Colab\"/></a>"
      ]
    },
    {
      "cell_type": "code",
      "execution_count": 1,
      "metadata": {
        "colab": {
          "base_uri": "https://localhost:8080/"
        },
        "id": "_8Bt9hbTIZu1",
        "outputId": "8fc8ba9a-b01d-4397-bda6-0e1720328d6a"
      },
      "outputs": [
        {
          "output_type": "stream",
          "name": "stdout",
          "text": [
            "Looking in indexes: https://pypi.org/simple, https://us-python.pkg.dev/colab-wheels/public/simple/\n",
            "Collecting simple_image_download\n",
            "  Downloading simple_image_download-0.5-py3-none-any.whl (7.0 kB)\n",
            "Requirement already satisfied: requests in /usr/local/lib/python3.10/dist-packages (from simple_image_download) (2.27.1)\n",
            "INFO: pip is looking at multiple versions of simple-image-download to determine which version is compatible with other requirements. This could take a while.\n",
            "  Downloading simple_image_download-0.4-py3-none-any.whl (4.9 kB)\n",
            "  Downloading simple_image_download-0.2-py3-none-any.whl (3.8 kB)\n",
            "Requirement already satisfied: urllib3<1.27,>=1.21.1 in /usr/local/lib/python3.10/dist-packages (from requests->simple_image_download) (1.26.15)\n",
            "Requirement already satisfied: certifi>=2017.4.17 in /usr/local/lib/python3.10/dist-packages (from requests->simple_image_download) (2022.12.7)\n",
            "Requirement already satisfied: charset-normalizer~=2.0.0 in /usr/local/lib/python3.10/dist-packages (from requests->simple_image_download) (2.0.12)\n",
            "Requirement already satisfied: idna<4,>=2.5 in /usr/local/lib/python3.10/dist-packages (from requests->simple_image_download) (3.4)\n",
            "Installing collected packages: simple_image_download\n",
            "Successfully installed simple_image_download-0.2\n"
          ]
        }
      ],
      "source": [
        "!pip install simple_image_download"
      ]
    },
    {
      "cell_type": "code",
      "source": [
        "from simple_image_download import simple_image_download as simp\n",
        "response = simp.simple_image_download"
      ],
      "metadata": {
        "id": "Duiift6AKjUo"
      },
      "execution_count": 2,
      "outputs": []
    },
    {
      "cell_type": "code",
      "source": [
        "response().download('cat',100)"
      ],
      "metadata": {
        "id": "iSfVvFbAKoR6"
      },
      "execution_count": 3,
      "outputs": []
    },
    {
      "cell_type": "code",
      "source": [
        "!pip install opencv"
      ],
      "metadata": {
        "colab": {
          "base_uri": "https://localhost:8080/"
        },
        "id": "KaC6meslLSKT",
        "outputId": "35aff09e-a393-43ab-9415-82f537831d1d"
      },
      "execution_count": 4,
      "outputs": [
        {
          "output_type": "stream",
          "name": "stdout",
          "text": [
            "Looking in indexes: https://pypi.org/simple, https://us-python.pkg.dev/colab-wheels/public/simple/\n",
            "\u001b[31mERROR: Could not find a version that satisfies the requirement opencv (from versions: none)\u001b[0m\u001b[31m\n",
            "\u001b[0m\u001b[31mERROR: No matching distribution found for opencv\u001b[0m\u001b[31m\n",
            "\u001b[0m"
          ]
        }
      ]
    },
    {
      "cell_type": "code",
      "source": [
        "import cv2\n",
        "import os\n"
      ],
      "metadata": {
        "id": "Qw8SybbOL7fd"
      },
      "execution_count": 5,
      "outputs": []
    },
    {
      "cell_type": "code",
      "source": [
        "image_dir=\"/content/simple_images/cat\""
      ],
      "metadata": {
        "id": "QshNLFGAL8Eb"
      },
      "execution_count": 6,
      "outputs": []
    },
    {
      "cell_type": "code",
      "source": [
        "# Get a list of all image files in the directory\n",
        "image_files = os.listdir(image_dir)"
      ],
      "metadata": {
        "id": "8ISwMcvfMKqz"
      },
      "execution_count": 7,
      "outputs": []
    },
    {
      "cell_type": "code",
      "source": [
        "# Create a new directory to store the grayscale images\n",
        "output_dir = \"grayscale_images\"\n",
        "os.makedirs(output_dir, exist_ok=True)"
      ],
      "metadata": {
        "id": "SOpNyMtrMQ1g"
      },
      "execution_count": 12,
      "outputs": []
    },
    {
      "cell_type": "code",
      "source": [
        "\n",
        "# Iterate through the image files\n",
        "for image_file in image_files:\n",
        "    # Construct the full path to the image file\n",
        "    image_path = os.path.join(image_dir, image_file)\n",
        "\n",
        "    try:\n",
        "        # Read the image\n",
        "        image = cv2.imread(image_path)\n",
        "\n",
        "        if image is not None:\n",
        "            # Convert the image to grayscale\n",
        "            grayscale_image = cv2.cvtColor(image, cv2.COLOR_BGR2GRAY)\n",
        "\n",
        "            # Save the grayscale image with the same name in the new directory\n",
        "            output_path = os.path.join(output_dir, image_file)\n",
        "            cv2.imwrite(output_path, grayscale_image)\n",
        "        else:\n",
        "            print(f\"Error reading image: {image_file}\")\n",
        "    except Exception as e:\n",
        "        print(f\"Error processing image: {image_file}\")\n"
      ],
      "metadata": {
        "colab": {
          "base_uri": "https://localhost:8080/"
        },
        "id": "eEl9eM_qN0Zy",
        "outputId": "44063a09-74f6-4b1d-e736-cba1e4e6e3e3"
      },
      "execution_count": 13,
      "outputs": [
        {
          "output_type": "stream",
          "name": "stdout",
          "text": [
            "Error reading image: cat_27.jpg\n",
            "Error reading image: cat_59.jpg\n",
            "Error reading image: cat_99.jpg\n",
            "Error reading image: cat_12.jpg\n",
            "Error reading image: cat_98.jpg\n",
            "Error reading image: cat_49.jpg\n",
            "Error reading image: cat_14.jpg\n",
            "Error reading image: cat_63.jpg\n",
            "Error reading image: cat_41.jpg\n",
            "Error reading image: cat_43.jpg\n",
            "Error reading image: cat_100.jpg\n",
            "Error reading image: cat_18.jpg\n",
            "Error reading image: cat_55.jpg\n",
            "Error reading image: cat_72.jpg\n",
            "Error reading image: cat_13.jpg\n"
          ]
        }
      ]
    }
  ]
}